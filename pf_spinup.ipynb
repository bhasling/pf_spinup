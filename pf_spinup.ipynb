{
 "cells": [
  {
   "cell_type": "markdown",
   "id": "66d5ea91",
   "metadata": {},
   "source": [
    "# Example Parflow spin up"
   ]
  },
  {
   "cell_type": "code",
   "execution_count": null,
   "id": "ddbd0bfc",
   "metadata": {},
   "outputs": [],
   "source": [
    "import src/pf_spinup_util\n"
   ]
  }
 ],
 "metadata": {
  "kernelspec": {
   "display_name": "base",
   "language": "python",
   "name": "python3"
  },
  "language_info": {
   "codemirror_mode": {
    "name": "ipython",
    "version": 3
   },
   "file_extension": ".py",
   "mimetype": "text/x-python",
   "name": "python",
   "nbconvert_exporter": "python",
   "pygments_lexer": "ipython3",
   "version": "3.11.4"
  }
 },
 "nbformat": 4,
 "nbformat_minor": 5
}
